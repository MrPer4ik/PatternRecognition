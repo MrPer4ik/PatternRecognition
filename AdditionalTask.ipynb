{
  "nbformat": 4,
  "nbformat_minor": 0,
  "metadata": {
    "colab": {
      "name": "AdditionalTask.ipynb",
      "provenance": [],
      "authorship_tag": "ABX9TyMvLFFpxFKXzKrqzY8N1FU7",
      "include_colab_link": true
    },
    "kernelspec": {
      "name": "python3",
      "display_name": "Python 3"
    },
    "language_info": {
      "name": "python"
    }
  },
  "cells": [
    {
      "cell_type": "markdown",
      "metadata": {
        "id": "view-in-github",
        "colab_type": "text"
      },
      "source": [
        "<a href=\"https://colab.research.google.com/github/MrPer4ik/PatternRecognition/blob/main/AdditionalTask.ipynb\" target=\"_parent\"><img src=\"https://colab.research.google.com/assets/colab-badge.svg\" alt=\"Open In Colab\"/></a>"
      ]
    },
    {
      "cell_type": "code",
      "metadata": {
        "id": "lA4sKwmVylh6"
      },
      "source": [
        "import pandas as pd\n",
        "import numpy as np\n",
        "import matplotlib.pyplot as plt\n",
        "\n",
        "from sklearn.preprocessing import MinMaxScaler\n",
        "from sklearn.model_selection import train_test_split, cross_val_score, RepeatedStratifiedKFold\n",
        "from sklearn.svm import SVC\n",
        "from sklearn.neighbors import KNeighborsClassifier\n",
        "from sklearn.naive_bayes import GaussianNB\n",
        "from sklearn.tree import DecisionTreeClassifier\n",
        "from sklearn.linear_model import LogisticRegression\n",
        "from sklearn.ensemble import StackingClassifier, BaggingClassifier\n",
        "from sklearn import metrics"
      ],
      "execution_count": 22,
      "outputs": []
    },
    {
      "cell_type": "markdown",
      "metadata": {
        "id": "_n0sszgZVZq-"
      },
      "source": [
        "Кожен запис є прикладом \"руки\" в покері, що складається з п’яти гральних карт, витягнутих зі стандартної колоди 52. Кожна карта описується двома атрибутами (масті та рангу), загалом 10. Існує один атрибут ***CLASS***, який описує силу (можливість виграшу) покерної \"руки\". Порядок карт важливий, тому існує 480 можливих роздач **Роял Флеш** порівняно з 4 (по одній для кожної масті).\n",
        "\n",
        "<h2>Інформація про атрибути:</h2>\n",
        "\n",
        "1) ***S1*** \"Масть картки № 1\" Порядковий (1-4), що представляє *{чирви, піки, бубни, трефи}*\n",
        "\n",
        "2) ***C1*** \"Ранг картки № 1\" Числовий (1-13), що представляє (туз, 2, 3, ..., королева, король)\n",
        "\n",
        "3) ***S2*** \"Масть картки № 2\" Порядковий (1-4), що представляє *{чирви, піки, бубни, трефи}*\n",
        "\n",
        "4) ***C2*** \"Ранг картки № 2\" Числовий (1-13), що представляє (туз, 2, 3, ..., королева, король)\n",
        "\n",
        "5) ***S3*** \"Масть картки № 3\" Порядок (1-4), що представляє *{чирви, піки, бубни, трефи}*\n",
        "\n",
        "6) ***C3*** \"Ранг картки № 3\" Числовий (1-13), що представляє (туз, 2, 3, ..., королева, король)\n",
        "\n",
        "7) ***S4*** \"Масть картки № 4\" Порядок (1-4), що представляє *{чирви, піки, бубни, трефи}*\n",
        "\n",
        "8) ***C4*** \"Ранг картки № 4\" Числовий (1-13), що представляє (туз, 2, 3, ..., королева, король)\n",
        "\n",
        "9) ***S5*** \"Масть картки #5\" Порядковий (1-4), що представляє *{чирви, піки, бубни, трефи}*\n",
        "\n",
        "10) ***C5*** \"Ранг картки 5\" Числовий (1-13), що представляє (Туз, 2, 3, ..., Королева, Король)\n",
        "\n",
        "11) ***CLASS*** Класифікація покерної \"руки\" Порядковий (0-9)\n",
        "\n",
        "<h2>Можливі значення атрибуту CLASS</h2>\n",
        "\n",
        "***0: Нічого в руках***; не визнана покерна рука\n",
        "\n",
        "***1: Одна пара***; одна пара рівних рангів у межах п’яти карт\n",
        "\n",
        "***2: Дві пари***; дві пари рівних рангів у межах п’яти карт\n",
        "\n",
        "***3: Сет***; три рівні ранги в межах п’яти карт\n",
        "\n",
        "***4: Стріт***; п'ять карт, послідовно ранжованих без пропусків\n",
        "\n",
        "***5: Флеш***; п'ять карт однієї масті\n",
        "\n",
        "***6: Фул гауз***; пара + сет\n",
        "\n",
        "***7: Каре***; чотири рівні ранги в межах п’яти карт\n",
        "\n",
        "***8: Стріт Флеш***; стріт + флеш\n",
        "\n",
        "***9: Роял Флеш***; {Туз, Король, Королева, Валет, Десять} + флеш"
      ]
    },
    {
      "cell_type": "markdown",
      "metadata": {
        "id": "o3BwOZ11ODjd"
      },
      "source": [
        "# Підготовка та обробка даних"
      ]
    },
    {
      "cell_type": "code",
      "metadata": {
        "colab": {
          "base_uri": "https://localhost:8080/",
          "height": 204
        },
        "id": "rnckwXIzy4RT",
        "outputId": "7869f54f-a63f-4524-e0fb-38070fda9675"
      },
      "source": [
        "data = pd.read_csv('https://raw.githubusercontent.com/MrPer4ik/PatternRecognition/main/poker.csv')\n",
        "data.head()"
      ],
      "execution_count": 7,
      "outputs": [
        {
          "output_type": "execute_result",
          "data": {
            "text/html": [
              "<div>\n",
              "<style scoped>\n",
              "    .dataframe tbody tr th:only-of-type {\n",
              "        vertical-align: middle;\n",
              "    }\n",
              "\n",
              "    .dataframe tbody tr th {\n",
              "        vertical-align: top;\n",
              "    }\n",
              "\n",
              "    .dataframe thead th {\n",
              "        text-align: right;\n",
              "    }\n",
              "</style>\n",
              "<table border=\"1\" class=\"dataframe\">\n",
              "  <thead>\n",
              "    <tr style=\"text-align: right;\">\n",
              "      <th></th>\n",
              "      <th>S1</th>\n",
              "      <th>C1</th>\n",
              "      <th>S2</th>\n",
              "      <th>C2</th>\n",
              "      <th>S3</th>\n",
              "      <th>C3</th>\n",
              "      <th>S4</th>\n",
              "      <th>C4</th>\n",
              "      <th>S5</th>\n",
              "      <th>C5</th>\n",
              "      <th>CLASS</th>\n",
              "    </tr>\n",
              "  </thead>\n",
              "  <tbody>\n",
              "    <tr>\n",
              "      <th>0</th>\n",
              "      <td>1</td>\n",
              "      <td>1</td>\n",
              "      <td>1</td>\n",
              "      <td>13</td>\n",
              "      <td>2</td>\n",
              "      <td>4</td>\n",
              "      <td>2</td>\n",
              "      <td>3</td>\n",
              "      <td>1</td>\n",
              "      <td>12</td>\n",
              "      <td>0</td>\n",
              "    </tr>\n",
              "    <tr>\n",
              "      <th>1</th>\n",
              "      <td>3</td>\n",
              "      <td>12</td>\n",
              "      <td>3</td>\n",
              "      <td>2</td>\n",
              "      <td>3</td>\n",
              "      <td>11</td>\n",
              "      <td>4</td>\n",
              "      <td>5</td>\n",
              "      <td>2</td>\n",
              "      <td>5</td>\n",
              "      <td>1</td>\n",
              "    </tr>\n",
              "    <tr>\n",
              "      <th>2</th>\n",
              "      <td>1</td>\n",
              "      <td>9</td>\n",
              "      <td>4</td>\n",
              "      <td>6</td>\n",
              "      <td>1</td>\n",
              "      <td>4</td>\n",
              "      <td>3</td>\n",
              "      <td>2</td>\n",
              "      <td>3</td>\n",
              "      <td>9</td>\n",
              "      <td>1</td>\n",
              "    </tr>\n",
              "    <tr>\n",
              "      <th>3</th>\n",
              "      <td>1</td>\n",
              "      <td>4</td>\n",
              "      <td>3</td>\n",
              "      <td>13</td>\n",
              "      <td>2</td>\n",
              "      <td>13</td>\n",
              "      <td>2</td>\n",
              "      <td>1</td>\n",
              "      <td>3</td>\n",
              "      <td>6</td>\n",
              "      <td>1</td>\n",
              "    </tr>\n",
              "    <tr>\n",
              "      <th>4</th>\n",
              "      <td>3</td>\n",
              "      <td>10</td>\n",
              "      <td>2</td>\n",
              "      <td>7</td>\n",
              "      <td>1</td>\n",
              "      <td>2</td>\n",
              "      <td>2</td>\n",
              "      <td>11</td>\n",
              "      <td>4</td>\n",
              "      <td>9</td>\n",
              "      <td>0</td>\n",
              "    </tr>\n",
              "  </tbody>\n",
              "</table>\n",
              "</div>"
            ],
            "text/plain": [
              "   S1  C1  S2  C2  S3  C3  S4  C4  S5  C5  CLASS\n",
              "0   1   1   1  13   2   4   2   3   1  12      0\n",
              "1   3  12   3   2   3  11   4   5   2   5      1\n",
              "2   1   9   4   6   1   4   3   2   3   9      1\n",
              "3   1   4   3  13   2  13   2   1   3   6      1\n",
              "4   3  10   2   7   1   2   2  11   4   9      0"
            ]
          },
          "metadata": {},
          "execution_count": 7
        }
      ]
    },
    {
      "cell_type": "markdown",
      "metadata": {
        "id": "2o9LOfGYOJI2"
      },
      "source": [
        "Сортуємо ранги карт за зростанням."
      ]
    },
    {
      "cell_type": "code",
      "metadata": {
        "colab": {
          "base_uri": "https://localhost:8080/",
          "height": 204
        },
        "id": "NI3qy-1s4ffi",
        "outputId": "e8722117-a8ea-4ce5-ee18-1c384e179ae9"
      },
      "source": [
        "df = data.copy()\n",
        "dfc = df[['C1', 'C2', 'C3', 'C4', 'C5']]\n",
        "dfc.values.sort()\n",
        "df[['C1', 'C2', 'C3', 'C4', 'C5']] = dfc\n",
        "df = df[['C1', 'C2', 'C3', 'C4', 'C5', 'S1', 'S2', 'S3', 'S4', 'S5', 'CLASS']]\n",
        "df.head()"
      ],
      "execution_count": 8,
      "outputs": [
        {
          "output_type": "execute_result",
          "data": {
            "text/html": [
              "<div>\n",
              "<style scoped>\n",
              "    .dataframe tbody tr th:only-of-type {\n",
              "        vertical-align: middle;\n",
              "    }\n",
              "\n",
              "    .dataframe tbody tr th {\n",
              "        vertical-align: top;\n",
              "    }\n",
              "\n",
              "    .dataframe thead th {\n",
              "        text-align: right;\n",
              "    }\n",
              "</style>\n",
              "<table border=\"1\" class=\"dataframe\">\n",
              "  <thead>\n",
              "    <tr style=\"text-align: right;\">\n",
              "      <th></th>\n",
              "      <th>C1</th>\n",
              "      <th>C2</th>\n",
              "      <th>C3</th>\n",
              "      <th>C4</th>\n",
              "      <th>C5</th>\n",
              "      <th>S1</th>\n",
              "      <th>S2</th>\n",
              "      <th>S3</th>\n",
              "      <th>S4</th>\n",
              "      <th>S5</th>\n",
              "      <th>CLASS</th>\n",
              "    </tr>\n",
              "  </thead>\n",
              "  <tbody>\n",
              "    <tr>\n",
              "      <th>0</th>\n",
              "      <td>1</td>\n",
              "      <td>3</td>\n",
              "      <td>4</td>\n",
              "      <td>12</td>\n",
              "      <td>13</td>\n",
              "      <td>1</td>\n",
              "      <td>1</td>\n",
              "      <td>2</td>\n",
              "      <td>2</td>\n",
              "      <td>1</td>\n",
              "      <td>0</td>\n",
              "    </tr>\n",
              "    <tr>\n",
              "      <th>1</th>\n",
              "      <td>2</td>\n",
              "      <td>5</td>\n",
              "      <td>5</td>\n",
              "      <td>11</td>\n",
              "      <td>12</td>\n",
              "      <td>3</td>\n",
              "      <td>3</td>\n",
              "      <td>3</td>\n",
              "      <td>4</td>\n",
              "      <td>2</td>\n",
              "      <td>1</td>\n",
              "    </tr>\n",
              "    <tr>\n",
              "      <th>2</th>\n",
              "      <td>2</td>\n",
              "      <td>4</td>\n",
              "      <td>6</td>\n",
              "      <td>9</td>\n",
              "      <td>9</td>\n",
              "      <td>1</td>\n",
              "      <td>4</td>\n",
              "      <td>1</td>\n",
              "      <td>3</td>\n",
              "      <td>3</td>\n",
              "      <td>1</td>\n",
              "    </tr>\n",
              "    <tr>\n",
              "      <th>3</th>\n",
              "      <td>1</td>\n",
              "      <td>4</td>\n",
              "      <td>6</td>\n",
              "      <td>13</td>\n",
              "      <td>13</td>\n",
              "      <td>1</td>\n",
              "      <td>3</td>\n",
              "      <td>2</td>\n",
              "      <td>2</td>\n",
              "      <td>3</td>\n",
              "      <td>1</td>\n",
              "    </tr>\n",
              "    <tr>\n",
              "      <th>4</th>\n",
              "      <td>2</td>\n",
              "      <td>7</td>\n",
              "      <td>9</td>\n",
              "      <td>10</td>\n",
              "      <td>11</td>\n",
              "      <td>3</td>\n",
              "      <td>2</td>\n",
              "      <td>1</td>\n",
              "      <td>2</td>\n",
              "      <td>4</td>\n",
              "      <td>0</td>\n",
              "    </tr>\n",
              "  </tbody>\n",
              "</table>\n",
              "</div>"
            ],
            "text/plain": [
              "   C1  C2  C3  C4  C5  S1  S2  S3  S4  S5  CLASS\n",
              "0   1   3   4  12  13   1   1   2   2   1      0\n",
              "1   2   5   5  11  12   3   3   3   4   2      1\n",
              "2   2   4   6   9   9   1   4   1   3   3      1\n",
              "3   1   4   6  13  13   1   3   2   2   3      1\n",
              "4   2   7   9  10  11   3   2   1   2   4      0"
            ]
          },
          "metadata": {},
          "execution_count": 8
        }
      ]
    },
    {
      "cell_type": "markdown",
      "metadata": {
        "id": "ZAqXqeJMOOYt"
      },
      "source": [
        "Додаємо ознаки кількості відповідних рангів та мастей карт у \"руці\"."
      ]
    },
    {
      "cell_type": "code",
      "metadata": {
        "colab": {
          "base_uri": "https://localhost:8080/",
          "height": 204
        },
        "id": "fxahc4pG4fgp",
        "outputId": "2b0d8e4c-83e6-493a-eee0-8169767eb93f"
      },
      "source": [
        "tmp = df[['C1', 'C2', 'C3', 'C4', 'C5']]\n",
        "df['Cnt_C1'] = tmp.apply(lambda x: sum(x==x[0]) ,axis=1)\n",
        "df['Cnt_C2'] = tmp.apply(lambda x: sum(x==x[1]) ,axis=1)\n",
        "df['Cnt_C3'] = tmp.apply(lambda x: sum(x==x[2]) ,axis=1)\n",
        "df['Cnt_C4'] = tmp.apply(lambda x: sum(x==x[3]) ,axis=1)\n",
        "df['Cnt_C5'] = tmp.apply(lambda x: sum(x==x[4]) ,axis=1)\n",
        "\n",
        "tmp = df[['S1', 'S2', 'S3', 'S4', 'S5']]\n",
        "df['Cnt_S1'] = tmp.apply(lambda x: sum(x==x[0]) ,axis=1)\n",
        "df['Cnt_S2'] = tmp.apply(lambda x: sum(x==x[1]) ,axis=1)\n",
        "df['Cnt_S3'] = tmp.apply(lambda x: sum(x==x[2]) ,axis=1)\n",
        "df['Cnt_S4'] = tmp.apply(lambda x: sum(x==x[3]) ,axis=1)    \n",
        "df['Cnt_S5'] = tmp.apply(lambda x: sum(x==x[4]) ,axis=1)\n",
        "\n",
        "df.head()"
      ],
      "execution_count": 9,
      "outputs": [
        {
          "output_type": "execute_result",
          "data": {
            "text/html": [
              "<div>\n",
              "<style scoped>\n",
              "    .dataframe tbody tr th:only-of-type {\n",
              "        vertical-align: middle;\n",
              "    }\n",
              "\n",
              "    .dataframe tbody tr th {\n",
              "        vertical-align: top;\n",
              "    }\n",
              "\n",
              "    .dataframe thead th {\n",
              "        text-align: right;\n",
              "    }\n",
              "</style>\n",
              "<table border=\"1\" class=\"dataframe\">\n",
              "  <thead>\n",
              "    <tr style=\"text-align: right;\">\n",
              "      <th></th>\n",
              "      <th>C1</th>\n",
              "      <th>C2</th>\n",
              "      <th>C3</th>\n",
              "      <th>C4</th>\n",
              "      <th>C5</th>\n",
              "      <th>S1</th>\n",
              "      <th>S2</th>\n",
              "      <th>S3</th>\n",
              "      <th>S4</th>\n",
              "      <th>S5</th>\n",
              "      <th>CLASS</th>\n",
              "      <th>Cnt_C1</th>\n",
              "      <th>Cnt_C2</th>\n",
              "      <th>Cnt_C3</th>\n",
              "      <th>Cnt_C4</th>\n",
              "      <th>Cnt_C5</th>\n",
              "      <th>Cnt_S1</th>\n",
              "      <th>Cnt_S2</th>\n",
              "      <th>Cnt_S3</th>\n",
              "      <th>Cnt_S4</th>\n",
              "      <th>Cnt_S5</th>\n",
              "    </tr>\n",
              "  </thead>\n",
              "  <tbody>\n",
              "    <tr>\n",
              "      <th>0</th>\n",
              "      <td>1</td>\n",
              "      <td>3</td>\n",
              "      <td>4</td>\n",
              "      <td>12</td>\n",
              "      <td>13</td>\n",
              "      <td>1</td>\n",
              "      <td>1</td>\n",
              "      <td>2</td>\n",
              "      <td>2</td>\n",
              "      <td>1</td>\n",
              "      <td>0</td>\n",
              "      <td>1</td>\n",
              "      <td>1</td>\n",
              "      <td>1</td>\n",
              "      <td>1</td>\n",
              "      <td>1</td>\n",
              "      <td>3</td>\n",
              "      <td>3</td>\n",
              "      <td>2</td>\n",
              "      <td>2</td>\n",
              "      <td>3</td>\n",
              "    </tr>\n",
              "    <tr>\n",
              "      <th>1</th>\n",
              "      <td>2</td>\n",
              "      <td>5</td>\n",
              "      <td>5</td>\n",
              "      <td>11</td>\n",
              "      <td>12</td>\n",
              "      <td>3</td>\n",
              "      <td>3</td>\n",
              "      <td>3</td>\n",
              "      <td>4</td>\n",
              "      <td>2</td>\n",
              "      <td>1</td>\n",
              "      <td>1</td>\n",
              "      <td>2</td>\n",
              "      <td>2</td>\n",
              "      <td>1</td>\n",
              "      <td>1</td>\n",
              "      <td>3</td>\n",
              "      <td>3</td>\n",
              "      <td>3</td>\n",
              "      <td>1</td>\n",
              "      <td>1</td>\n",
              "    </tr>\n",
              "    <tr>\n",
              "      <th>2</th>\n",
              "      <td>2</td>\n",
              "      <td>4</td>\n",
              "      <td>6</td>\n",
              "      <td>9</td>\n",
              "      <td>9</td>\n",
              "      <td>1</td>\n",
              "      <td>4</td>\n",
              "      <td>1</td>\n",
              "      <td>3</td>\n",
              "      <td>3</td>\n",
              "      <td>1</td>\n",
              "      <td>1</td>\n",
              "      <td>1</td>\n",
              "      <td>1</td>\n",
              "      <td>2</td>\n",
              "      <td>2</td>\n",
              "      <td>2</td>\n",
              "      <td>1</td>\n",
              "      <td>2</td>\n",
              "      <td>2</td>\n",
              "      <td>2</td>\n",
              "    </tr>\n",
              "    <tr>\n",
              "      <th>3</th>\n",
              "      <td>1</td>\n",
              "      <td>4</td>\n",
              "      <td>6</td>\n",
              "      <td>13</td>\n",
              "      <td>13</td>\n",
              "      <td>1</td>\n",
              "      <td>3</td>\n",
              "      <td>2</td>\n",
              "      <td>2</td>\n",
              "      <td>3</td>\n",
              "      <td>1</td>\n",
              "      <td>1</td>\n",
              "      <td>1</td>\n",
              "      <td>1</td>\n",
              "      <td>2</td>\n",
              "      <td>2</td>\n",
              "      <td>1</td>\n",
              "      <td>2</td>\n",
              "      <td>2</td>\n",
              "      <td>2</td>\n",
              "      <td>2</td>\n",
              "    </tr>\n",
              "    <tr>\n",
              "      <th>4</th>\n",
              "      <td>2</td>\n",
              "      <td>7</td>\n",
              "      <td>9</td>\n",
              "      <td>10</td>\n",
              "      <td>11</td>\n",
              "      <td>3</td>\n",
              "      <td>2</td>\n",
              "      <td>1</td>\n",
              "      <td>2</td>\n",
              "      <td>4</td>\n",
              "      <td>0</td>\n",
              "      <td>1</td>\n",
              "      <td>1</td>\n",
              "      <td>1</td>\n",
              "      <td>1</td>\n",
              "      <td>1</td>\n",
              "      <td>1</td>\n",
              "      <td>2</td>\n",
              "      <td>1</td>\n",
              "      <td>2</td>\n",
              "      <td>1</td>\n",
              "    </tr>\n",
              "  </tbody>\n",
              "</table>\n",
              "</div>"
            ],
            "text/plain": [
              "   C1  C2  C3  C4  C5  S1  ...  Cnt_C5  Cnt_S1  Cnt_S2  Cnt_S3  Cnt_S4  Cnt_S5\n",
              "0   1   3   4  12  13   1  ...       1       3       3       2       2       3\n",
              "1   2   5   5  11  12   3  ...       1       3       3       3       1       1\n",
              "2   2   4   6   9   9   1  ...       2       2       1       2       2       2\n",
              "3   1   4   6  13  13   1  ...       2       1       2       2       2       2\n",
              "4   2   7   9  10  11   3  ...       1       1       2       1       2       1\n",
              "\n",
              "[5 rows x 21 columns]"
            ]
          },
          "metadata": {},
          "execution_count": 9
        }
      ]
    },
    {
      "cell_type": "markdown",
      "metadata": {
        "id": "rlPtuoXnOdJN"
      },
      "source": [
        "Додамо також ознаки, які показують різницю між сусідніми картами у \"руці\" (для визначення стріту), а також обчислимо кількість унікальних мастей у \"руці\" (для визначення флешу)."
      ]
    },
    {
      "cell_type": "code",
      "metadata": {
        "colab": {
          "base_uri": "https://localhost:8080/",
          "height": 204
        },
        "id": "bcKPxkzU6Ohf",
        "outputId": "2524f0b2-111a-4e42-df22-51219947f816"
      },
      "source": [
        "df['Diff1'] = df['C5'] - df['C4']\n",
        "df['Diff2'] = df['C4'] - df['C3']\n",
        "df['Diff3'] = df['C3'] - df['C2']\n",
        "df['Diff4'] = df['C2'] - df['C1']\n",
        "\n",
        "df['UniqueS'] = tmp.apply(lambda x: len(np.unique(x)) , axis=1)\n",
        "\n",
        "df.head()"
      ],
      "execution_count": 10,
      "outputs": [
        {
          "output_type": "execute_result",
          "data": {
            "text/html": [
              "<div>\n",
              "<style scoped>\n",
              "    .dataframe tbody tr th:only-of-type {\n",
              "        vertical-align: middle;\n",
              "    }\n",
              "\n",
              "    .dataframe tbody tr th {\n",
              "        vertical-align: top;\n",
              "    }\n",
              "\n",
              "    .dataframe thead th {\n",
              "        text-align: right;\n",
              "    }\n",
              "</style>\n",
              "<table border=\"1\" class=\"dataframe\">\n",
              "  <thead>\n",
              "    <tr style=\"text-align: right;\">\n",
              "      <th></th>\n",
              "      <th>C1</th>\n",
              "      <th>C2</th>\n",
              "      <th>C3</th>\n",
              "      <th>C4</th>\n",
              "      <th>C5</th>\n",
              "      <th>S1</th>\n",
              "      <th>S2</th>\n",
              "      <th>S3</th>\n",
              "      <th>S4</th>\n",
              "      <th>S5</th>\n",
              "      <th>CLASS</th>\n",
              "      <th>Cnt_C1</th>\n",
              "      <th>Cnt_C2</th>\n",
              "      <th>Cnt_C3</th>\n",
              "      <th>Cnt_C4</th>\n",
              "      <th>Cnt_C5</th>\n",
              "      <th>Cnt_S1</th>\n",
              "      <th>Cnt_S2</th>\n",
              "      <th>Cnt_S3</th>\n",
              "      <th>Cnt_S4</th>\n",
              "      <th>Cnt_S5</th>\n",
              "      <th>Diff1</th>\n",
              "      <th>Diff2</th>\n",
              "      <th>Diff3</th>\n",
              "      <th>Diff4</th>\n",
              "      <th>UniqueS</th>\n",
              "    </tr>\n",
              "  </thead>\n",
              "  <tbody>\n",
              "    <tr>\n",
              "      <th>0</th>\n",
              "      <td>1</td>\n",
              "      <td>3</td>\n",
              "      <td>4</td>\n",
              "      <td>12</td>\n",
              "      <td>13</td>\n",
              "      <td>1</td>\n",
              "      <td>1</td>\n",
              "      <td>2</td>\n",
              "      <td>2</td>\n",
              "      <td>1</td>\n",
              "      <td>0</td>\n",
              "      <td>1</td>\n",
              "      <td>1</td>\n",
              "      <td>1</td>\n",
              "      <td>1</td>\n",
              "      <td>1</td>\n",
              "      <td>3</td>\n",
              "      <td>3</td>\n",
              "      <td>2</td>\n",
              "      <td>2</td>\n",
              "      <td>3</td>\n",
              "      <td>1</td>\n",
              "      <td>8</td>\n",
              "      <td>1</td>\n",
              "      <td>2</td>\n",
              "      <td>2</td>\n",
              "    </tr>\n",
              "    <tr>\n",
              "      <th>1</th>\n",
              "      <td>2</td>\n",
              "      <td>5</td>\n",
              "      <td>5</td>\n",
              "      <td>11</td>\n",
              "      <td>12</td>\n",
              "      <td>3</td>\n",
              "      <td>3</td>\n",
              "      <td>3</td>\n",
              "      <td>4</td>\n",
              "      <td>2</td>\n",
              "      <td>1</td>\n",
              "      <td>1</td>\n",
              "      <td>2</td>\n",
              "      <td>2</td>\n",
              "      <td>1</td>\n",
              "      <td>1</td>\n",
              "      <td>3</td>\n",
              "      <td>3</td>\n",
              "      <td>3</td>\n",
              "      <td>1</td>\n",
              "      <td>1</td>\n",
              "      <td>1</td>\n",
              "      <td>6</td>\n",
              "      <td>0</td>\n",
              "      <td>3</td>\n",
              "      <td>3</td>\n",
              "    </tr>\n",
              "    <tr>\n",
              "      <th>2</th>\n",
              "      <td>2</td>\n",
              "      <td>4</td>\n",
              "      <td>6</td>\n",
              "      <td>9</td>\n",
              "      <td>9</td>\n",
              "      <td>1</td>\n",
              "      <td>4</td>\n",
              "      <td>1</td>\n",
              "      <td>3</td>\n",
              "      <td>3</td>\n",
              "      <td>1</td>\n",
              "      <td>1</td>\n",
              "      <td>1</td>\n",
              "      <td>1</td>\n",
              "      <td>2</td>\n",
              "      <td>2</td>\n",
              "      <td>2</td>\n",
              "      <td>1</td>\n",
              "      <td>2</td>\n",
              "      <td>2</td>\n",
              "      <td>2</td>\n",
              "      <td>0</td>\n",
              "      <td>3</td>\n",
              "      <td>2</td>\n",
              "      <td>2</td>\n",
              "      <td>3</td>\n",
              "    </tr>\n",
              "    <tr>\n",
              "      <th>3</th>\n",
              "      <td>1</td>\n",
              "      <td>4</td>\n",
              "      <td>6</td>\n",
              "      <td>13</td>\n",
              "      <td>13</td>\n",
              "      <td>1</td>\n",
              "      <td>3</td>\n",
              "      <td>2</td>\n",
              "      <td>2</td>\n",
              "      <td>3</td>\n",
              "      <td>1</td>\n",
              "      <td>1</td>\n",
              "      <td>1</td>\n",
              "      <td>1</td>\n",
              "      <td>2</td>\n",
              "      <td>2</td>\n",
              "      <td>1</td>\n",
              "      <td>2</td>\n",
              "      <td>2</td>\n",
              "      <td>2</td>\n",
              "      <td>2</td>\n",
              "      <td>0</td>\n",
              "      <td>7</td>\n",
              "      <td>2</td>\n",
              "      <td>3</td>\n",
              "      <td>3</td>\n",
              "    </tr>\n",
              "    <tr>\n",
              "      <th>4</th>\n",
              "      <td>2</td>\n",
              "      <td>7</td>\n",
              "      <td>9</td>\n",
              "      <td>10</td>\n",
              "      <td>11</td>\n",
              "      <td>3</td>\n",
              "      <td>2</td>\n",
              "      <td>1</td>\n",
              "      <td>2</td>\n",
              "      <td>4</td>\n",
              "      <td>0</td>\n",
              "      <td>1</td>\n",
              "      <td>1</td>\n",
              "      <td>1</td>\n",
              "      <td>1</td>\n",
              "      <td>1</td>\n",
              "      <td>1</td>\n",
              "      <td>2</td>\n",
              "      <td>1</td>\n",
              "      <td>2</td>\n",
              "      <td>1</td>\n",
              "      <td>1</td>\n",
              "      <td>1</td>\n",
              "      <td>2</td>\n",
              "      <td>5</td>\n",
              "      <td>4</td>\n",
              "    </tr>\n",
              "  </tbody>\n",
              "</table>\n",
              "</div>"
            ],
            "text/plain": [
              "   C1  C2  C3  C4  C5  S1  ...  Cnt_S5  Diff1  Diff2  Diff3  Diff4  UniqueS\n",
              "0   1   3   4  12  13   1  ...       3      1      8      1      2        2\n",
              "1   2   5   5  11  12   3  ...       1      1      6      0      3        3\n",
              "2   2   4   6   9   9   1  ...       2      0      3      2      2        3\n",
              "3   1   4   6  13  13   1  ...       2      0      7      2      3        3\n",
              "4   2   7   9  10  11   3  ...       1      1      1      2      5        4\n",
              "\n",
              "[5 rows x 26 columns]"
            ]
          },
          "metadata": {},
          "execution_count": 10
        }
      ]
    },
    {
      "cell_type": "code",
      "metadata": {
        "id": "WD_Yb34uy8Wr"
      },
      "source": [
        "X_train, X_test, y_train, y_test = train_test_split(df.iloc[:, :-1], \n",
        "                                                    df.iloc[:, -1], \n",
        "                                                    test_size=0.3, \n",
        "                                                    stratify=df.iloc[:, -1])"
      ],
      "execution_count": 12,
      "outputs": []
    },
    {
      "cell_type": "code",
      "metadata": {
        "id": "9_UDsD0KDUNX"
      },
      "source": [
        "def evaluate_model(model, X, y):\n",
        "\tcv = RepeatedStratifiedKFold(n_splits=10, n_repeats=3)\n",
        "\tscores = cross_val_score(model, X, y, scoring='accuracy', cv=cv, n_jobs=-1)\n",
        "\treturn scores"
      ],
      "execution_count": 18,
      "outputs": []
    },
    {
      "cell_type": "markdown",
      "metadata": {
        "id": "p7Qwi293N67N"
      },
      "source": [
        "# Навчання базових моделей"
      ]
    },
    {
      "cell_type": "code",
      "metadata": {
        "id": "TraESysj0_c6"
      },
      "source": [
        "models = {\n",
        "    'Linear SVM': SVC(kernel='linear'),\n",
        "    'RBF SVM': SVC(),\n",
        "    'KNeighbors': KNeighborsClassifier(n_neighbors=50, n_jobs=-1),\n",
        "    'Naive Bayes': GaussianNB(),\n",
        "    'Decision Tree': DecisionTreeClassifier(), \n",
        "    'Logistic Regression': LogisticRegression(n_jobs=-1)\n",
        "}"
      ],
      "execution_count": 13,
      "outputs": []
    },
    {
      "cell_type": "code",
      "metadata": {
        "colab": {
          "base_uri": "https://localhost:8080/"
        },
        "id": "N7ZylBh4CIee",
        "outputId": "394e8c1c-81ff-4047-aa67-df970310eed9"
      },
      "source": [
        "for model in models:\n",
        "    clf = models[model]\n",
        "    train_score = np.mean(evaluate_model(clf, X_train, y_train))\n",
        "    test_score = np.mean(evaluate_model(clf, X_test, y_test))\n",
        "    print(f'{model}\\nTrain score: {train_score}\\nTest score: {test_score}\\n\\n')"
      ],
      "execution_count": 21,
      "outputs": [
        {
          "output_type": "stream",
          "name": "stdout",
          "text": [
            "Linear SVM\n",
            "Train score: 1.0\n",
            "Test score: 1.0\n",
            "\n",
            "\n",
            "RBF SVM\n",
            "Train score: 1.0\n",
            "Test score: 1.0\n",
            "\n",
            "\n",
            "KNeighbors\n",
            "Train score: 0.7652551970009323\n",
            "Test score: 0.7043333333333333\n",
            "\n",
            "\n",
            "Naive Bayes\n",
            "Train score: 0.9258407146599172\n",
            "Test score: 0.9298666666666666\n",
            "\n",
            "\n",
            "Decision Tree\n",
            "Train score: 1.0\n",
            "Test score: 1.0\n",
            "\n",
            "\n",
            "Logistic Regression\n",
            "Train score: 0.9823328795270072\n",
            "Test score: 0.9815333333333333\n",
            "\n",
            "\n"
          ]
        }
      ]
    },
    {
      "cell_type": "markdown",
      "metadata": {
        "id": "iMoGvL7hNhC1"
      },
      "source": [
        "# Стекінг"
      ]
    },
    {
      "cell_type": "markdown",
      "metadata": {
        "id": "UurzIoNAQa68"
      },
      "source": [
        "Об'єднаємо у стекінг класифікатор окремо моделі, які дали відмінну якість, та ті, які показали себе не з найкращої сторони при вирішенні даної задачі, та порівняємо отримані результати."
      ]
    },
    {
      "cell_type": "code",
      "metadata": {
        "id": "D4-L_9uYCZCO"
      },
      "source": [
        "stack_models = {\n",
        "    'Stack from better models': StackingClassifier(\n",
        "        estimators=[('svm', models['Linear SVM']),\n",
        "                    ('dt', models['Decision Tree'])],\n",
        "        final_estimator=models['Logistic Regression'], cv=10, n_jobs=-1),\n",
        "    'Stack from worse models': StackingClassifier(\n",
        "        estimators=[('kn', models['KNeighbors']),\n",
        "                    ('nb', models['Naive Bayes'])],\n",
        "        final_estimator=models['Logistic Regression'], cv=10, n_jobs=-1) \n",
        "}"
      ],
      "execution_count": 28,
      "outputs": []
    },
    {
      "cell_type": "code",
      "metadata": {
        "colab": {
          "base_uri": "https://localhost:8080/"
        },
        "id": "YAxbj5rvKa3N",
        "outputId": "ceafd869-2097-46ad-ba67-82aa33efa82d"
      },
      "source": [
        "for model in stack_models:\n",
        "    clf = stack_models[model]\n",
        "    train_score = np.mean(evaluate_model(clf, X_train, y_train))\n",
        "    test_score = np.mean(evaluate_model(clf, X_test, y_test))\n",
        "    print(f'{model}\\nTrain score: {train_score}\\nTest score: {test_score}\\n\\n')"
      ],
      "execution_count": 29,
      "outputs": [
        {
          "output_type": "stream",
          "name": "stdout",
          "text": [
            "Stack from better models\n",
            "Train score: 1.0\n",
            "Test score: 1.0\n",
            "\n",
            "\n",
            "Stack from worse models\n",
            "Train score: 0.9656704719721866\n",
            "Test score: 0.9538111111111113\n",
            "\n",
            "\n"
          ]
        }
      ]
    },
    {
      "cell_type": "markdown",
      "metadata": {
        "id": "8BdX0zGId0Zg"
      },
      "source": [
        "Отже, можна зробити висновок, що, по-перше, для \"хороших\" моделей використання ансамблей не має жодного сенсу, адже відмінна якість вже досягнута, а по-друге, якість для не настільки хороших моделей значно зростає. Наприклад, моделі К найближчих сусідів та наївного Байєса мали точність 70 та 92 відсотки на тестовій вибірці відповідно. А при їх стекінгу та застосуванні наприкінці логістичної регресії підвищує якість до 95%."
      ]
    },
    {
      "cell_type": "markdown",
      "metadata": {
        "id": "lj2axcjRQtGD"
      },
      "source": [
        "# Бегінг"
      ]
    },
    {
      "cell_type": "code",
      "metadata": {
        "id": "03G8tljeLjMl"
      },
      "source": [
        "bag_models = {\n",
        "    'Bag Decision Tree': BaggingClassifier(\n",
        "        base_estimator=models['Decision Tree'], n_estimators=10),\n",
        "    'Bag Naive Bayes': BaggingClassifier(\n",
        "        base_estimator=models['Naive Bayes'], n_estimators=10) \n",
        "}"
      ],
      "execution_count": 32,
      "outputs": []
    },
    {
      "cell_type": "code",
      "metadata": {
        "colab": {
          "base_uri": "https://localhost:8080/"
        },
        "id": "PItmGWzQSKyy",
        "outputId": "151a5dc0-59e6-416e-c341-bcce033d24f6"
      },
      "source": [
        "for model in bag_models:\n",
        "    clf = bag_models[model]\n",
        "    train_score = np.mean(evaluate_model(clf, X_train, y_train))\n",
        "    test_score = np.mean(evaluate_model(clf, X_test, y_test))\n",
        "    print(f'{model}\\nTrain score: {train_score}\\nTest score: {test_score}\\n\\n')"
      ],
      "execution_count": 33,
      "outputs": [
        {
          "output_type": "stream",
          "name": "stdout",
          "text": [
            "Bag Decision Tree\n",
            "Train score: 1.0\n",
            "Test score: 1.0\n",
            "\n",
            "\n",
            "Bag Naive Bayes\n",
            "Train score: 0.9258216602371768\n",
            "Test score: 0.9295222222222221\n",
            "\n",
            "\n"
          ]
        }
      ]
    },
    {
      "cell_type": "markdown",
      "metadata": {
        "id": "tCtcplmAfyam"
      },
      "source": [
        "Для бегінгу ситуація схожа, але можна також помітити, що якість для наївного байєсу не сильно змінилася, а для дерева рішень так і залишилася ідеальною. Треба також зауважити, що бегінг працює значно швидше за стекінг, бо не вимагає навчання різних моделей (це також залежить і від базових моделей, наприклад, у нашому випадку \"bottleneck\"-ом був саме алгоритм К сусідів)."
      ]
    }
  ]
}